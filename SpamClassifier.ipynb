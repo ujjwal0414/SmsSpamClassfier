{
 "cells": [
  {
   "cell_type": "code",
   "execution_count": 1,
   "id": "b8cb8821-9985-4de8-9b9d-7419016738f9",
   "metadata": {},
   "outputs": [],
   "source": [
    "import numpy as np\n",
    "import pandas as pd\n",
    "import seaborn as sns\n",
    "import matplotlib.pyplot as plt"
   ]
  },
  {
   "cell_type": "code",
   "execution_count": 6,
   "id": "80a3d2ca-1850-4a68-a460-c9bb550d2b9a",
   "metadata": {},
   "outputs": [],
   "source": [
    "spam_df=pd.read_csv('../Downloads/spam.csv',encoding = \"ISO-8859-1\")"
   ]
  },
  {
   "cell_type": "code",
   "execution_count": 29,
   "id": "2d1ef6d0-653b-4c68-86a8-cd4da75cf1db",
   "metadata": {},
   "outputs": [],
   "source": [
    "x_samp=spam_df.sample(10)\n"
   ]
  },
  {
   "cell_type": "code",
   "execution_count": 35,
   "id": "646f6c57-2ec0-4c54-9fe7-7f7e5a7209e6",
   "metadata": {},
   "outputs": [],
   "source": [
    "x_samp['v2']=x_samp['v2'].str.lower()"
   ]
  },
  {
   "cell_type": "code",
   "execution_count": 36,
   "id": "b67cc382-3a22-4aea-b4df-1e3adced3c77",
   "metadata": {},
   "outputs": [
    {
     "data": {
      "text/html": [
       "<div>\n",
       "<style scoped>\n",
       "    .dataframe tbody tr th:only-of-type {\n",
       "        vertical-align: middle;\n",
       "    }\n",
       "\n",
       "    .dataframe tbody tr th {\n",
       "        vertical-align: top;\n",
       "    }\n",
       "\n",
       "    .dataframe thead th {\n",
       "        text-align: right;\n",
       "    }\n",
       "</style>\n",
       "<table border=\"1\" class=\"dataframe\">\n",
       "  <thead>\n",
       "    <tr style=\"text-align: right;\">\n",
       "      <th></th>\n",
       "      <th>v1</th>\n",
       "      <th>v2</th>\n",
       "      <th>Unnamed: 2</th>\n",
       "      <th>Unnamed: 3</th>\n",
       "      <th>Unnamed: 4</th>\n",
       "    </tr>\n",
       "  </thead>\n",
       "  <tbody>\n",
       "    <tr>\n",
       "      <th>921</th>\n",
       "      <td>ham</td>\n",
       "      <td>on ma way to school. can you pls send me ashle...</td>\n",
       "      <td>NaN</td>\n",
       "      <td>NaN</td>\n",
       "      <td>NaN</td>\n",
       "    </tr>\n",
       "    <tr>\n",
       "      <th>3432</th>\n",
       "      <td>ham</td>\n",
       "      <td>christmas is an occasion that is celebrated as...</td>\n",
       "      <td>NaN</td>\n",
       "      <td>NaN</td>\n",
       "      <td>NaN</td>\n",
       "    </tr>\n",
       "    <tr>\n",
       "      <th>1223</th>\n",
       "      <td>ham</td>\n",
       "      <td>rofl betta invest in some  anti aging products</td>\n",
       "      <td>NaN</td>\n",
       "      <td>NaN</td>\n",
       "      <td>NaN</td>\n",
       "    </tr>\n",
       "    <tr>\n",
       "      <th>2782</th>\n",
       "      <td>ham</td>\n",
       "      <td>well at this right i'm gonna have to get up an...</td>\n",
       "      <td>NaN</td>\n",
       "      <td>NaN</td>\n",
       "      <td>NaN</td>\n",
       "    </tr>\n",
       "    <tr>\n",
       "      <th>5257</th>\n",
       "      <td>ham</td>\n",
       "      <td>as usual..iam fine, happy &amp;amp; doing well..:)</td>\n",
       "      <td>NaN</td>\n",
       "      <td>NaN</td>\n",
       "      <td>NaN</td>\n",
       "    </tr>\n",
       "    <tr>\n",
       "      <th>2807</th>\n",
       "      <td>ham</td>\n",
       "      <td>yes princess! i want to catch you with my big ...</td>\n",
       "      <td>NaN</td>\n",
       "      <td>NaN</td>\n",
       "      <td>NaN</td>\n",
       "    </tr>\n",
       "    <tr>\n",
       "      <th>5472</th>\n",
       "      <td>ham</td>\n",
       "      <td>well obviously not because all the people in m...</td>\n",
       "      <td>NaN</td>\n",
       "      <td>NaN</td>\n",
       "      <td>NaN</td>\n",
       "    </tr>\n",
       "    <tr>\n",
       "      <th>5070</th>\n",
       "      <td>ham</td>\n",
       "      <td>as in different styles?</td>\n",
       "      <td>NaN</td>\n",
       "      <td>NaN</td>\n",
       "      <td>NaN</td>\n",
       "    </tr>\n",
       "    <tr>\n",
       "      <th>2688</th>\n",
       "      <td>ham</td>\n",
       "      <td>yes i know the cheesy songs from frosty the sn...</td>\n",
       "      <td>NaN</td>\n",
       "      <td>NaN</td>\n",
       "      <td>NaN</td>\n",
       "    </tr>\n",
       "    <tr>\n",
       "      <th>3865</th>\n",
       "      <td>ham</td>\n",
       "      <td>theoretically yeah, he could be able to come</td>\n",
       "      <td>NaN</td>\n",
       "      <td>NaN</td>\n",
       "      <td>NaN</td>\n",
       "    </tr>\n",
       "  </tbody>\n",
       "</table>\n",
       "</div>"
      ],
      "text/plain": [
       "       v1                                                 v2 Unnamed: 2  \\\n",
       "921   ham  on ma way to school. can you pls send me ashle...        NaN   \n",
       "3432  ham  christmas is an occasion that is celebrated as...        NaN   \n",
       "1223  ham     rofl betta invest in some  anti aging products        NaN   \n",
       "2782  ham  well at this right i'm gonna have to get up an...        NaN   \n",
       "5257  ham     as usual..iam fine, happy &amp; doing well..:)        NaN   \n",
       "2807  ham  yes princess! i want to catch you with my big ...        NaN   \n",
       "5472  ham  well obviously not because all the people in m...        NaN   \n",
       "5070  ham                            as in different styles?        NaN   \n",
       "2688  ham  yes i know the cheesy songs from frosty the sn...        NaN   \n",
       "3865  ham       theoretically yeah, he could be able to come        NaN   \n",
       "\n",
       "     Unnamed: 3 Unnamed: 4  \n",
       "921         NaN        NaN  \n",
       "3432        NaN        NaN  \n",
       "1223        NaN        NaN  \n",
       "2782        NaN        NaN  \n",
       "5257        NaN        NaN  \n",
       "2807        NaN        NaN  \n",
       "5472        NaN        NaN  \n",
       "5070        NaN        NaN  \n",
       "2688        NaN        NaN  \n",
       "3865        NaN        NaN  "
      ]
     },
     "execution_count": 36,
     "metadata": {},
     "output_type": "execute_result"
    }
   ],
   "source": [
    "x_samp"
   ]
  },
  {
   "cell_type": "code",
   "execution_count": 37,
   "id": "97ebce4b-3998-43b3-83b6-d45068cac635",
   "metadata": {},
   "outputs": [],
   "source": [
    "import re\n",
    "# as per recommendation from @freylis, compile once only\n",
    "CLEANR = re.compile('<.*?>') \n",
    "\n",
    "def cleanhtml(raw_html):\n",
    "  cleantext = re.sub(CLEANR, '', raw_html)\n",
    "  return cleantext"
   ]
  },
  {
   "cell_type": "code",
   "execution_count": 38,
   "id": "5bdf6bde-9253-4fc1-9d50-2733dbfa651e",
   "metadata": {},
   "outputs": [
    {
     "data": {
      "text/plain": [
       "'Ernest harnesserlink'"
      ]
     },
     "execution_count": 38,
     "metadata": {},
     "output_type": "execute_result"
    }
   ],
   "source": [
    "cleanhtml('<h1>Ernest harnesser</h1><br/><a href=\"we.ho\">link</a>')"
   ]
  },
  {
   "cell_type": "code",
   "execution_count": null,
   "id": "6cafd213-088f-4364-99de-744f7d0527d6",
   "metadata": {},
   "outputs": [],
   "source": []
  }
 ],
 "metadata": {
  "kernelspec": {
   "display_name": "Python 3 (ipykernel)",
   "language": "python",
   "name": "python3"
  },
  "language_info": {
   "codemirror_mode": {
    "name": "ipython",
    "version": 3
   },
   "file_extension": ".py",
   "mimetype": "text/x-python",
   "name": "python",
   "nbconvert_exporter": "python",
   "pygments_lexer": "ipython3",
   "version": "3.11.4"
  }
 },
 "nbformat": 4,
 "nbformat_minor": 5
}
